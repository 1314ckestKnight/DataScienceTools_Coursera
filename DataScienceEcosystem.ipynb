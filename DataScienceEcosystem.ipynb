{
 "cells": [
  {
   "cell_type": "markdown",
   "id": "16af947c-dfc3-48da-aa62-f506625a74c8",
   "metadata": {},
   "source": [
    "# Data Science Tools and Ecosystem"
   ]
  },
  {
   "cell_type": "markdown",
   "id": "a5db2b12-bc24-4929-be60-84d0d4ca8881",
   "metadata": {},
   "source": [
    "In this notebook, Data Science Tools and Ecosystem are summarized."
   ]
  },
  {
   "cell_type": "markdown",
   "id": "ea62dcb0-c5c2-4542-8ded-0c5d15d8d429",
   "metadata": {},
   "source": [
    "__Objectives:__\n",
    "+ List popular Data Science Languages\n",
    "+ List commonly used Data Science Libraries\n",
    "+ Table with Data Science Tools\n",
    "+ Simple math with Python in a Jupyter Notebook"
   ]
  },
  {
   "cell_type": "markdown",
   "id": "0d4adfde-6a81-4313-8b1a-25f9531191a5",
   "metadata": {},
   "source": [
    "Some of the popular languages that Data Scientists use are:\n",
    "1. Python\n",
    "2. R\n",
    "3. Scala\n",
    "4. Julia\n",
    "5. SQL"
   ]
  },
  {
   "cell_type": "markdown",
   "id": "228e78df-c448-49ff-aeed-c6a9f945c57b",
   "metadata": {},
   "source": [
    "Some of the commonly used libraries used by Data Scientists include:\n",
    "1. NumPy\n",
    "2. Pandas\n",
    "3. Scikit-learn\n",
    "4. Matplotlib\n",
    "5. Seaborn"
   ]
  },
  {
   "cell_type": "markdown",
   "id": "840cd48d-3899-46b2-991a-9afdda789fbf",
   "metadata": {},
   "source": [
    "|*Data Science Tools*|\n",
    "|--------------------|\n",
    "|RStudio|\n",
    "|JupyterLab / Notebooks|\n",
    "|GitHub|"
   ]
  },
  {
   "cell_type": "markdown",
   "id": "75e5b351-5cc8-4364-95d0-9131ae72e38c",
   "metadata": {},
   "source": [
    "### Below are a few examples of evaluating arithmetic expressions in Python"
   ]
  },
  {
   "cell_type": "code",
   "execution_count": 5,
   "id": "fd029c6e-aa44-4b74-b9d8-40c709eb4967",
   "metadata": {},
   "outputs": [
    {
     "data": {
      "text/plain": [
       "17"
      ]
     },
     "execution_count": 5,
     "metadata": {},
     "output_type": "execute_result"
    }
   ],
   "source": [
    "#This a simple arithmetic expression to mutiply then add integers\n",
    "(3*4)+5"
   ]
  },
  {
   "cell_type": "code",
   "execution_count": 6,
   "id": "410f5ee6-fa5b-4272-8c4b-63d80d09f934",
   "metadata": {},
   "outputs": [
    {
     "data": {
      "text/plain": [
       "3.3333333333333335"
      ]
     },
     "execution_count": 6,
     "metadata": {},
     "output_type": "execute_result"
    }
   ],
   "source": [
    "#This will convert 200 minutes to hours by diving by 60\n",
    "200/60"
   ]
  },
  {
   "cell_type": "markdown",
   "id": "d666ed63-52e9-45c6-b719-679e3c654cbc",
   "metadata": {},
   "source": [
    "## Author\n",
    "Zack Capitao"
   ]
  },
  {
   "cell_type": "code",
   "execution_count": null,
   "id": "776807fd-3bc4-4a5c-9fad-e1a4ba891814",
   "metadata": {},
   "outputs": [],
   "source": []
  }
 ],
 "metadata": {
  "kernelspec": {
   "display_name": "Python 3 (ipykernel)",
   "language": "python",
   "name": "python3"
  },
  "language_info": {
   "codemirror_mode": {
    "name": "ipython",
    "version": 3
   },
   "file_extension": ".py",
   "mimetype": "text/x-python",
   "name": "python",
   "nbconvert_exporter": "python",
   "pygments_lexer": "ipython3",
   "version": "3.13.5"
  }
 },
 "nbformat": 4,
 "nbformat_minor": 5
}
